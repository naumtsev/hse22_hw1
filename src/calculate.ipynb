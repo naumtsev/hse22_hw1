{
 "cells": [
  {
   "cell_type": "code",
   "execution_count": 107,
   "id": "48627c52",
   "metadata": {},
   "outputs": [],
   "source": [
    " def get_info(path_to_file, struct_name):\n",
    "    with open(path_to_file, \"r\") as file:\n",
    "        elements = []\n",
    "        name = \"\"\n",
    "        size = 0\n",
    "        sum_sizes = 0\n",
    "        for line in file.readlines():\n",
    "            if line.startswith(\">\"):\n",
    "                if name != \"\":\n",
    "                    elements.append((size, name))\n",
    "                    sum_sizes += size\n",
    "                    \n",
    "                name = line.strip()[1:]\n",
    "                size = 0\n",
    "            else:\n",
    "                size += len(line.strip())\n",
    "        \n",
    "        if name != \"\":\n",
    "            elements.append((size, name))\n",
    "            sum_sizes += size\n",
    "            \n",
    "        elements.sort(key=lambda x: x[0])\n",
    "        \n",
    "        \n",
    "        max_element_size = elements[-1][0]\n",
    "        max_element = elements[-1][1]\n",
    "    \n",
    "    \n",
    "        cur_sum = 0\n",
    "        N50 = 0\n",
    "        N50_size = \"\"\n",
    "        \n",
    "        for size, name in elements:\n",
    "            cur_sum += size\n",
    "            if sum_sizes <= cur_sum * 2:\n",
    "                N50 = name\n",
    "                N50_size = size\n",
    "                break\n",
    "        return { \n",
    "            f\"{struct_name}_count\": len(elements),\n",
    "            f\"max_{struct_name}\": max_element,\n",
    "            f\"max_{struct_name}_size\": max_element_size,\n",
    "            \"N50\": N50,\n",
    "            \"N50_size\": N50_size,\n",
    "        }"
   ]
  },
  {
   "cell_type": "code",
   "execution_count": 108,
   "id": "94dd9bbb",
   "metadata": {},
   "outputs": [
    {
     "data": {
      "text/plain": [
       "{'contig_count': 1469,\n",
       " 'max_contig': 'seq374_len58306_cov224',\n",
       " 'max_contig_size': 58306,\n",
       " 'N50': 'seq393_len11527_cov224',\n",
       " 'N50_size': 11527}"
      ]
     },
     "execution_count": 108,
     "metadata": {},
     "output_type": "execute_result"
    }
   ],
   "source": [
    "get_info(\"../data/out_contig.fa\", \"contig\")"
   ]
  },
  {
   "cell_type": "code",
   "execution_count": 109,
   "id": "4ad82b98",
   "metadata": {},
   "outputs": [],
   "source": [
    "def get_element(path_to_file, elem_name):\n",
    "    with open(path_to_file, \"r\") as file:\n",
    "        name = \"\"\n",
    "        size = 0\n",
    "        elem = \"\"\n",
    "        for line in file.readlines():\n",
    "            if line.startswith(\">\"):\n",
    "                if name == elem_name:\n",
    "                    return elem\n",
    "                name = line.strip()[1:]\n",
    "                elem = \"\"\n",
    "            else:\n",
    "                elem += line.strip()\n",
    "    \n",
    "        if name != \"\" and name == elem_name:\n",
    "            return elem"
   ]
  },
  {
   "cell_type": "code",
   "execution_count": 110,
   "id": "9da82f80",
   "metadata": {},
   "outputs": [],
   "source": [
    "def get_gap_info(elem):\n",
    "    flag = False\n",
    "    gap_count = 0\n",
    "    for e in elem:\n",
    "        if e == \"N\" and flag is False:\n",
    "            flag = True\n",
    "            gap_count += 1\n",
    "        \n",
    "        if e != \"N\":\n",
    "            flag = False\n",
    "    return {\n",
    "            \"sum_gap_size\": elem.count(\"N\"),\n",
    "            \"gap_count\": gap_count\n",
    "            }\n",
    "\n",
    "    "
   ]
  },
  {
   "cell_type": "code",
   "execution_count": 111,
   "id": "0b9e0d66",
   "metadata": {},
   "outputs": [
    {
     "data": {
      "text/plain": [
       "{'scaffold_count': 130,\n",
       " 'max_scaffold': 'scaffold4_len383647_cov236',\n",
       " 'max_scaffold_size': 383647,\n",
       " 'N50': 'scaffold70_len173419_cov224',\n",
       " 'N50_size': 173419}"
      ]
     },
     "execution_count": 111,
     "metadata": {},
     "output_type": "execute_result"
    }
   ],
   "source": [
    "info = get_info(\"../data/out_scaffold.fa\", \"scaffold\")\n",
    "info"
   ]
  },
  {
   "cell_type": "code",
   "execution_count": 112,
   "id": "e3695cf9",
   "metadata": {},
   "outputs": [
    {
     "data": {
      "text/plain": [
       "{'sum_gap_size': 103, 'gap_count': 5}"
      ]
     },
     "execution_count": 112,
     "metadata": {},
     "output_type": "execute_result"
    }
   ],
   "source": [
    "max_scaffold_name = info[\"max_scaffold\"]\n",
    "max_scaffold = get_element(\"../data/out_scaffold.fa\", max_scaffold_name)\n",
    "get_gap_info(max_scaffold)"
   ]
  },
  {
   "cell_type": "code",
   "execution_count": 113,
   "id": "980abe72",
   "metadata": {},
   "outputs": [
    {
     "data": {
      "text/plain": [
       "{'scaffold_count': 130,\n",
       " 'max_scaffold': 'scaffold4_cov236',\n",
       " 'max_scaffold_size': 383574,\n",
       " 'N50': 'scaffold70_cov224',\n",
       " 'N50_size': 173397}"
      ]
     },
     "execution_count": 113,
     "metadata": {},
     "output_type": "execute_result"
    }
   ],
   "source": [
    "info_gapClosed = get_info(\"../data/out_gapClosed.fa\", \"scaffold\")\n",
    "info_gapClosed"
   ]
  },
  {
   "cell_type": "code",
   "execution_count": 114,
   "id": "55a8affd",
   "metadata": {},
   "outputs": [
    {
     "data": {
      "text/plain": [
       "{'sum_gap_size': 0, 'gap_count': 0}"
      ]
     },
     "execution_count": 114,
     "metadata": {},
     "output_type": "execute_result"
    }
   ],
   "source": [
    "max_scaffold_name = info_gapClosed[\"max_scaffold\"]\n",
    "max_scaffold = get_element(\"../data/out_gapClosed.fa\", max_scaffold_name)\n",
    "get_gap_info(max_scaffold)"
   ]
  }
 ],
 "metadata": {
  "kernelspec": {
   "display_name": "Python 3 (ipykernel)",
   "language": "python",
   "name": "python3"
  },
  "language_info": {
   "codemirror_mode": {
    "name": "ipython",
    "version": 3
   },
   "file_extension": ".py",
   "mimetype": "text/x-python",
   "name": "python",
   "nbconvert_exporter": "python",
   "pygments_lexer": "ipython3",
   "version": "3.8.10"
  }
 },
 "nbformat": 4,
 "nbformat_minor": 5
}
